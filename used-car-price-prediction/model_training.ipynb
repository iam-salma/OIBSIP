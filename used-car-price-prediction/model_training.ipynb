{
 "cells": [
  {
   "cell_type": "markdown",
   "id": "c3bd8ca9",
   "metadata": {},
   "source": [
    "# Used Car Price Prediction"
   ]
  },
  {
   "cell_type": "code",
   "execution_count": 21,
   "id": "85fb820e",
   "metadata": {},
   "outputs": [],
   "source": [
    "import pandas as pd\n",
    "import numpy as np\n",
    "import matplotlib.pyplot as plt\n",
    "import seaborn as sns\n",
    "\n",
    "import warnings\n",
    "warnings.filterwarnings(\"ignore\")"
   ]
  },
  {
   "cell_type": "code",
   "execution_count": 22,
   "id": "74189113",
   "metadata": {},
   "outputs": [],
   "source": [
    "sns.set(style=\"whitegrid\")\n",
    "plt.rcParams['figure.figsize'] = (6, 4)"
   ]
  },
  {
   "cell_type": "code",
   "execution_count": 23,
   "id": "13f84e8c",
   "metadata": {},
   "outputs": [
    {
     "data": {
      "text/html": [
       "<div>\n",
       "<style scoped>\n",
       "    .dataframe tbody tr th:only-of-type {\n",
       "        vertical-align: middle;\n",
       "    }\n",
       "\n",
       "    .dataframe tbody tr th {\n",
       "        vertical-align: top;\n",
       "    }\n",
       "\n",
       "    .dataframe thead th {\n",
       "        text-align: right;\n",
       "    }\n",
       "</style>\n",
       "<table border=\"1\" class=\"dataframe\">\n",
       "  <thead>\n",
       "    <tr style=\"text-align: right;\">\n",
       "      <th></th>\n",
       "      <th>Car_Name</th>\n",
       "      <th>Year</th>\n",
       "      <th>Selling_Price</th>\n",
       "      <th>Present_Price</th>\n",
       "      <th>Driven_kms</th>\n",
       "      <th>Fuel_Type</th>\n",
       "      <th>Selling_type</th>\n",
       "      <th>Transmission</th>\n",
       "      <th>Owner</th>\n",
       "    </tr>\n",
       "  </thead>\n",
       "  <tbody>\n",
       "    <tr>\n",
       "      <th>0</th>\n",
       "      <td>ritz</td>\n",
       "      <td>2014</td>\n",
       "      <td>3.35</td>\n",
       "      <td>5.59</td>\n",
       "      <td>27000</td>\n",
       "      <td>Petrol</td>\n",
       "      <td>Dealer</td>\n",
       "      <td>Manual</td>\n",
       "      <td>0</td>\n",
       "    </tr>\n",
       "    <tr>\n",
       "      <th>1</th>\n",
       "      <td>sx4</td>\n",
       "      <td>2013</td>\n",
       "      <td>4.75</td>\n",
       "      <td>9.54</td>\n",
       "      <td>43000</td>\n",
       "      <td>Diesel</td>\n",
       "      <td>Dealer</td>\n",
       "      <td>Manual</td>\n",
       "      <td>0</td>\n",
       "    </tr>\n",
       "    <tr>\n",
       "      <th>2</th>\n",
       "      <td>ciaz</td>\n",
       "      <td>2017</td>\n",
       "      <td>7.25</td>\n",
       "      <td>9.85</td>\n",
       "      <td>6900</td>\n",
       "      <td>Petrol</td>\n",
       "      <td>Dealer</td>\n",
       "      <td>Manual</td>\n",
       "      <td>0</td>\n",
       "    </tr>\n",
       "    <tr>\n",
       "      <th>3</th>\n",
       "      <td>wagon r</td>\n",
       "      <td>2011</td>\n",
       "      <td>2.85</td>\n",
       "      <td>4.15</td>\n",
       "      <td>5200</td>\n",
       "      <td>Petrol</td>\n",
       "      <td>Dealer</td>\n",
       "      <td>Manual</td>\n",
       "      <td>0</td>\n",
       "    </tr>\n",
       "    <tr>\n",
       "      <th>4</th>\n",
       "      <td>swift</td>\n",
       "      <td>2014</td>\n",
       "      <td>4.60</td>\n",
       "      <td>6.87</td>\n",
       "      <td>42450</td>\n",
       "      <td>Diesel</td>\n",
       "      <td>Dealer</td>\n",
       "      <td>Manual</td>\n",
       "      <td>0</td>\n",
       "    </tr>\n",
       "  </tbody>\n",
       "</table>\n",
       "</div>"
      ],
      "text/plain": [
       "  Car_Name  Year  Selling_Price  Present_Price  Driven_kms Fuel_Type  \\\n",
       "0     ritz  2014           3.35           5.59       27000    Petrol   \n",
       "1      sx4  2013           4.75           9.54       43000    Diesel   \n",
       "2     ciaz  2017           7.25           9.85        6900    Petrol   \n",
       "3  wagon r  2011           2.85           4.15        5200    Petrol   \n",
       "4    swift  2014           4.60           6.87       42450    Diesel   \n",
       "\n",
       "  Selling_type Transmission  Owner  \n",
       "0       Dealer       Manual      0  \n",
       "1       Dealer       Manual      0  \n",
       "2       Dealer       Manual      0  \n",
       "3       Dealer       Manual      0  \n",
       "4       Dealer       Manual      0  "
      ]
     },
     "execution_count": 23,
     "metadata": {},
     "output_type": "execute_result"
    }
   ],
   "source": [
    "df = pd.read_csv('dataset/car-data.csv')\n",
    "df.head()"
   ]
  },
  {
   "cell_type": "code",
   "execution_count": 24,
   "id": "2e364606",
   "metadata": {},
   "outputs": [],
   "source": [
    "df.drop(columns=['Car_Name'], inplace=True)"
   ]
  },
  {
   "cell_type": "code",
   "execution_count": 25,
   "id": "db2b7385",
   "metadata": {},
   "outputs": [
    {
     "name": "stdout",
     "output_type": "stream",
     "text": [
      "Shape of dataset: (301, 8)\n",
      "\n",
      "Column types:\n",
      " Year               int64\n",
      "Selling_Price    float64\n",
      "Present_Price    float64\n",
      "Driven_kms         int64\n",
      "Fuel_Type         object\n",
      "Selling_type      object\n",
      "Transmission      object\n",
      "Owner              int64\n",
      "dtype: object\n",
      "\n",
      "Missing values:\n",
      " Year             0\n",
      "Selling_Price    0\n",
      "Present_Price    0\n",
      "Driven_kms       0\n",
      "Fuel_Type        0\n",
      "Selling_type     0\n",
      "Transmission     0\n",
      "Owner            0\n",
      "dtype: int64\n",
      "\n",
      "Duplicates: 2\n"
     ]
    }
   ],
   "source": [
    "print(\"Shape of dataset:\", df.shape)\n",
    "print(\"\\nColumn types:\\n\", df.dtypes)\n",
    "print(\"\\nMissing values:\\n\", df.isnull().sum())\n",
    "print(\"\\nDuplicates:\", df.duplicated().sum())"
   ]
  },
  {
   "cell_type": "code",
   "execution_count": 26,
   "id": "5440d819",
   "metadata": {},
   "outputs": [
    {
     "name": "stdout",
     "output_type": "stream",
     "text": [
      "\n",
      "Duplicates: 0\n"
     ]
    }
   ],
   "source": [
    "df.drop_duplicates(inplace=True)\n",
    "print(\"\\nDuplicates:\", df.duplicated().sum())"
   ]
  },
  {
   "cell_type": "code",
   "execution_count": 27,
   "id": "d73c2344",
   "metadata": {},
   "outputs": [
    {
     "data": {
      "text/plain": [
       "Fuel_Type\n",
       "Petrol    239\n",
       "Diesel     58\n",
       "CNG         2\n",
       "Name: count, dtype: int64"
      ]
     },
     "execution_count": 27,
     "metadata": {},
     "output_type": "execute_result"
    }
   ],
   "source": [
    "df[\"Fuel_Type\"].value_counts()"
   ]
  },
  {
   "cell_type": "code",
   "execution_count": 28,
   "id": "53f122b2",
   "metadata": {},
   "outputs": [
    {
     "data": {
      "text/plain": [
       "Selling_type\n",
       "Dealer        193\n",
       "Individual    106\n",
       "Name: count, dtype: int64"
      ]
     },
     "execution_count": 28,
     "metadata": {},
     "output_type": "execute_result"
    }
   ],
   "source": [
    "df[\"Selling_type\"].value_counts()"
   ]
  },
  {
   "cell_type": "code",
   "execution_count": 29,
   "id": "132860b6",
   "metadata": {},
   "outputs": [
    {
     "data": {
      "text/plain": [
       "Transmission\n",
       "Manual       260\n",
       "Automatic     39\n",
       "Name: count, dtype: int64"
      ]
     },
     "execution_count": 29,
     "metadata": {},
     "output_type": "execute_result"
    }
   ],
   "source": [
    "df[\"Transmission\"].value_counts()"
   ]
  },
  {
   "cell_type": "code",
   "execution_count": 30,
   "id": "34d13faf",
   "metadata": {},
   "outputs": [
    {
     "data": {
      "text/html": [
       "<div>\n",
       "<style scoped>\n",
       "    .dataframe tbody tr th:only-of-type {\n",
       "        vertical-align: middle;\n",
       "    }\n",
       "\n",
       "    .dataframe tbody tr th {\n",
       "        vertical-align: top;\n",
       "    }\n",
       "\n",
       "    .dataframe thead th {\n",
       "        text-align: right;\n",
       "    }\n",
       "</style>\n",
       "<table border=\"1\" class=\"dataframe\">\n",
       "  <thead>\n",
       "    <tr style=\"text-align: right;\">\n",
       "      <th></th>\n",
       "      <th>Year</th>\n",
       "      <th>Selling_Price</th>\n",
       "      <th>Present_Price</th>\n",
       "      <th>Driven_kms</th>\n",
       "      <th>Fuel_Type</th>\n",
       "      <th>Selling_type</th>\n",
       "      <th>Transmission</th>\n",
       "      <th>Owner</th>\n",
       "    </tr>\n",
       "  </thead>\n",
       "  <tbody>\n",
       "    <tr>\n",
       "      <th>0</th>\n",
       "      <td>2014</td>\n",
       "      <td>3.35</td>\n",
       "      <td>5.59</td>\n",
       "      <td>27000</td>\n",
       "      <td>2</td>\n",
       "      <td>0</td>\n",
       "      <td>1</td>\n",
       "      <td>0</td>\n",
       "    </tr>\n",
       "    <tr>\n",
       "      <th>1</th>\n",
       "      <td>2013</td>\n",
       "      <td>4.75</td>\n",
       "      <td>9.54</td>\n",
       "      <td>43000</td>\n",
       "      <td>1</td>\n",
       "      <td>0</td>\n",
       "      <td>1</td>\n",
       "      <td>0</td>\n",
       "    </tr>\n",
       "    <tr>\n",
       "      <th>2</th>\n",
       "      <td>2017</td>\n",
       "      <td>7.25</td>\n",
       "      <td>9.85</td>\n",
       "      <td>6900</td>\n",
       "      <td>2</td>\n",
       "      <td>0</td>\n",
       "      <td>1</td>\n",
       "      <td>0</td>\n",
       "    </tr>\n",
       "    <tr>\n",
       "      <th>3</th>\n",
       "      <td>2011</td>\n",
       "      <td>2.85</td>\n",
       "      <td>4.15</td>\n",
       "      <td>5200</td>\n",
       "      <td>2</td>\n",
       "      <td>0</td>\n",
       "      <td>1</td>\n",
       "      <td>0</td>\n",
       "    </tr>\n",
       "    <tr>\n",
       "      <th>4</th>\n",
       "      <td>2014</td>\n",
       "      <td>4.60</td>\n",
       "      <td>6.87</td>\n",
       "      <td>42450</td>\n",
       "      <td>1</td>\n",
       "      <td>0</td>\n",
       "      <td>1</td>\n",
       "      <td>0</td>\n",
       "    </tr>\n",
       "  </tbody>\n",
       "</table>\n",
       "</div>"
      ],
      "text/plain": [
       "   Year  Selling_Price  Present_Price  Driven_kms  Fuel_Type  Selling_type  \\\n",
       "0  2014           3.35           5.59       27000          2             0   \n",
       "1  2013           4.75           9.54       43000          1             0   \n",
       "2  2017           7.25           9.85        6900          2             0   \n",
       "3  2011           2.85           4.15        5200          2             0   \n",
       "4  2014           4.60           6.87       42450          1             0   \n",
       "\n",
       "   Transmission  Owner  \n",
       "0             1      0  \n",
       "1             1      0  \n",
       "2             1      0  \n",
       "3             1      0  \n",
       "4             1      0  "
      ]
     },
     "execution_count": 30,
     "metadata": {},
     "output_type": "execute_result"
    }
   ],
   "source": [
    "from sklearn.preprocessing import LabelEncoder\n",
    "fuel_le = LabelEncoder()\n",
    "sell_le = LabelEncoder()\n",
    "trans_le = LabelEncoder()\n",
    "df[\"Fuel_Type\"] = fuel_le.fit_transform(df[\"Fuel_Type\"])\n",
    "df[\"Selling_type\"] = sell_le.fit_transform(df[\"Selling_type\"])\n",
    "df[\"Transmission\"] = trans_le.fit_transform(df[\"Transmission\"])\n",
    "df.head()"
   ]
  },
  {
   "cell_type": "code",
   "execution_count": 31,
   "id": "db9b72b2",
   "metadata": {},
   "outputs": [
    {
     "data": {
      "image/png": "[encoded data removed]",
      "text/plain": [
       "<Figure size 600x400 with 2 Axes>"
      ]
     },
     "metadata": {},
     "output_type": "display_data"
    }
   ],
   "source": [
    "sns.heatmap(df.corr(numeric_only=True), annot=True, cmap='coolwarm', fmt='.2f')\n",
    "plt.title(\"Correlation Heatmap\")\n",
    "plt.show()"
   ]
  },
  {
   "cell_type": "markdown",
   "id": "1b0d9a09",
   "metadata": {},
   "source": [
    "## Descriptive Statistics"
   ]
  },
  {
   "cell_type": "code",
   "execution_count": 32,
   "id": "c9780e53",
   "metadata": {},
   "outputs": [
    {
     "name": "stdout",
     "output_type": "stream",
     "text": [
      "\n",
      "Summary Statistics:\n",
      "               Year  Selling_Price  Present_Price     Driven_kms   Fuel_Type  \\\n",
      "count   299.000000     299.000000     299.000000     299.000000  299.000000   \n",
      "mean   2013.615385       4.589632       7.541037   36916.752508    1.792642   \n",
      "std       2.896868       4.984240       8.566332   39015.170352    0.422297   \n",
      "min    2003.000000       0.100000       0.320000     500.000000    0.000000   \n",
      "25%    2012.000000       0.850000       1.200000   15000.000000    2.000000   \n",
      "50%    2014.000000       3.510000       6.100000   32000.000000    2.000000   \n",
      "75%    2016.000000       6.000000       9.840000   48883.500000    2.000000   \n",
      "max    2018.000000      35.000000      92.600000  500000.000000    2.000000   \n",
      "\n",
      "       Selling_type  Transmission       Owner  \n",
      "count    299.000000    299.000000  299.000000  \n",
      "mean       0.354515      0.869565    0.043478  \n",
      "std        0.479168      0.337346    0.248720  \n",
      "min        0.000000      0.000000    0.000000  \n",
      "25%        0.000000      1.000000    0.000000  \n",
      "50%        0.000000      1.000000    0.000000  \n",
      "75%        1.000000      1.000000    0.000000  \n",
      "max        1.000000      1.000000    3.000000  \n"
     ]
    }
   ],
   "source": [
    "print(\"\\nSummary Statistics:\\n\", df.describe(include='all'))"
   ]
  },
  {
   "cell_type": "markdown",
   "id": "09d2a627",
   "metadata": {},
   "source": [
    "## Model Building"
   ]
  },
  {
   "cell_type": "code",
   "execution_count": 33,
   "id": "f45ef478",
   "metadata": {},
   "outputs": [
    {
     "data": {
      "text/html": [
       "<div>\n",
       "<style scoped>\n",
       "    .dataframe tbody tr th:only-of-type {\n",
       "        vertical-align: middle;\n",
       "    }\n",
       "\n",
       "    .dataframe tbody tr th {\n",
       "        vertical-align: top;\n",
       "    }\n",
       "\n",
       "    .dataframe thead th {\n",
       "        text-align: right;\n",
       "    }\n",
       "</style>\n",
       "<table border=\"1\" class=\"dataframe\">\n",
       "  <thead>\n",
       "    <tr style=\"text-align: right;\">\n",
       "      <th></th>\n",
       "      <th>Year</th>\n",
       "      <th>Present_Price</th>\n",
       "      <th>Driven_kms</th>\n",
       "      <th>Fuel_Type</th>\n",
       "      <th>Selling_type</th>\n",
       "      <th>Transmission</th>\n",
       "      <th>Owner</th>\n",
       "    </tr>\n",
       "  </thead>\n",
       "  <tbody>\n",
       "    <tr>\n",
       "      <th>6</th>\n",
       "      <td>2015</td>\n",
       "      <td>8.12</td>\n",
       "      <td>18796</td>\n",
       "      <td>2</td>\n",
       "      <td>0</td>\n",
       "      <td>1</td>\n",
       "      <td>0</td>\n",
       "    </tr>\n",
       "    <tr>\n",
       "      <th>185</th>\n",
       "      <td>2008</td>\n",
       "      <td>0.58</td>\n",
       "      <td>1900</td>\n",
       "      <td>2</td>\n",
       "      <td>1</td>\n",
       "      <td>0</td>\n",
       "      <td>0</td>\n",
       "    </tr>\n",
       "    <tr>\n",
       "      <th>187</th>\n",
       "      <td>2013</td>\n",
       "      <td>0.51</td>\n",
       "      <td>32000</td>\n",
       "      <td>2</td>\n",
       "      <td>1</td>\n",
       "      <td>1</td>\n",
       "      <td>0</td>\n",
       "    </tr>\n",
       "    <tr>\n",
       "      <th>148</th>\n",
       "      <td>2010</td>\n",
       "      <td>0.94</td>\n",
       "      <td>45000</td>\n",
       "      <td>2</td>\n",
       "      <td>1</td>\n",
       "      <td>1</td>\n",
       "      <td>0</td>\n",
       "    </tr>\n",
       "    <tr>\n",
       "      <th>31</th>\n",
       "      <td>2011</td>\n",
       "      <td>4.89</td>\n",
       "      <td>54200</td>\n",
       "      <td>2</td>\n",
       "      <td>0</td>\n",
       "      <td>1</td>\n",
       "      <td>0</td>\n",
       "    </tr>\n",
       "  </tbody>\n",
       "</table>\n",
       "</div>"
      ],
      "text/plain": [
       "     Year  Present_Price  Driven_kms  Fuel_Type  Selling_type  Transmission  \\\n",
       "6    2015           8.12       18796          2             0             1   \n",
       "185  2008           0.58        1900          2             1             0   \n",
       "187  2013           0.51       32000          2             1             1   \n",
       "148  2010           0.94       45000          2             1             1   \n",
       "31   2011           4.89       54200          2             0             1   \n",
       "\n",
       "     Owner  \n",
       "6        0  \n",
       "185      0  \n",
       "187      0  \n",
       "148      0  \n",
       "31       0  "
      ]
     },
     "execution_count": 33,
     "metadata": {},
     "output_type": "execute_result"
    }
   ],
   "source": [
    "from sklearn.model_selection import train_test_split, GridSearchCV\n",
    "\n",
    "X = df.drop('Selling_Price', axis=1)\n",
    "y = df['Selling_Price']\n",
    "X_train, X_test, y_train, y_test = train_test_split(X, y, test_size=0.2, random_state=42)\n",
    "X_train.head()"
   ]
  },
  {
   "cell_type": "code",
   "execution_count": 34,
   "id": "c4642e78",
   "metadata": {},
   "outputs": [],
   "source": [
    "from sklearn.preprocessing import StandardScaler\n",
    "\n",
    "scaler = StandardScaler()\n",
    "X_train_scaled = scaler.fit_transform(X_train)\n",
    "X_test_scaled = scaler.transform(X_test)"
   ]
  },
  {
   "cell_type": "code",
   "execution_count": 35,
   "id": "69dcea65",
   "metadata": {},
   "outputs": [],
   "source": [
    "from sklearn.linear_model import LinearRegression, Ridge, Lasso\n",
    "from sklearn.ensemble import RandomForestRegressor, GradientBoostingRegressor\n",
    "from sklearn.neighbors import KNeighborsRegressor\n",
    "from sklearn.svm import SVR\n",
    "from sklearn.linear_model import ElasticNet\n",
    "from sklearn.ensemble import ExtraTreesRegressor, AdaBoostRegressor\n",
    "from sklearn.tree import DecisionTreeRegressor\n",
    "from catboost import CatBoostRegressor\n",
    "from xgboost import XGBRegressor\n",
    "\n",
    "model_params = {\n",
    "    \"Linear Regression\": {\"model\": LinearRegression(), \"params\": {}},\n",
    "    \"Ridge Regression\": {\"model\": Ridge(), \"params\": {\"alpha\": [0.1, 1.0, 10.0]}},\n",
    "    \"Lasso Regression\": {\"model\": Lasso(), \"params\": {\"alpha\": [0.001, 0.01, 0.1, 1.0]}},\n",
    "    \"ElasticNet\": {\"model\": ElasticNet(), \"params\": {\"alpha\": [0.01, 0.1, 1.0], \"l1_ratio\": [0.2, 0.5, 0.8]}},\n",
    "    \"Decision Tree\": {\"model\": DecisionTreeRegressor(), \"params\": {\"max_depth\": [5, 10, 20]}},\n",
    "    \"Random Forest\": {\"model\": RandomForestRegressor(), \"params\": {\"n_estimators\": [50, 100], \"max_depth\": [None, 10, 20]}},\n",
    "    \"Extra Trees\": {\"model\": ExtraTreesRegressor(), \"params\": {\"n_estimators\": [100, 200], \"max_depth\": [10, 20]}},\n",
    "    \"AdaBoost\": {\"model\": AdaBoostRegressor(), \"params\": {\"n_estimators\": [50, 100], \"learning_rate\": [0.05, 0.1, 0.5]}},\n",
    "    \"Gradient Boosting\": {\"model\": GradientBoostingRegressor(), \"params\": {\"n_estimators\": [100, 200], \"learning_rate\": [0.05, 0.1]}},\n",
    "    \"Support Vector Regressor\": {\"model\": SVR(), \"params\": {\"C\": [0.1, 1, 10], \"kernel\": [\"rbf\", \"linear\"]}},\n",
    "    \"KNN Regressor\": {\"model\": KNeighborsRegressor(), \"params\": {\"n_neighbors\": [3, 5, 7]}},\n",
    "    \"XGBoost\": {\"model\": XGBRegressor(), \"params\": {\"n_estimators\": [100, 200], \"learning_rate\": [0.05, 0.1]}},\n",
    "    \"CatBoost\": {\"model\": CatBoostRegressor(verbose=0), \"params\": {\"iterations\": [100, 200], \"learning_rate\": [0.05, 0.1]}},\n",
    "}"
   ]
  },
  {
   "cell_type": "code",
   "execution_count": 36,
   "id": "a73a70e9",
   "metadata": {},
   "outputs": [
    {
     "name": "stdout",
     "output_type": "stream",
     "text": [
      "\n",
      "Final Comparison:\n",
      "                       Model  R2 Score      RMSE  \\\n",
      "12                  CatBoost  0.845361  1.996385   \n",
      "10             KNN Regressor  0.840312  2.028715   \n",
      "6                Extra Trees  0.823588  2.132303   \n",
      "11                   XGBoost  0.795384  2.296439   \n",
      "2           Lasso Regression  0.752760  2.524317   \n",
      "3                 ElasticNet  0.748582  2.545557   \n",
      "1           Ridge Regression  0.743183  2.572745   \n",
      "0          Linear Regression  0.740993  2.583688   \n",
      "8          Gradient Boosting  0.719516  2.688676   \n",
      "9   Support Vector Regressor  0.710245  2.732754   \n",
      "4              Decision Tree  0.646221  3.019611   \n",
      "7                   AdaBoost  0.627860  3.096978   \n",
      "5              Random Forest  0.578795  3.294817   \n",
      "\n",
      "                                     Best Params  \n",
      "12     {'iterations': 200, 'learning_rate': 0.1}  \n",
      "10                            {'n_neighbors': 3}  \n",
      "6         {'max_depth': 20, 'n_estimators': 100}  \n",
      "11   {'learning_rate': 0.1, 'n_estimators': 200}  \n",
      "2                                 {'alpha': 0.1}  \n",
      "3                {'alpha': 0.1, 'l1_ratio': 0.5}  \n",
      "1                                {'alpha': 10.0}  \n",
      "0                                             {}  \n",
      "8   {'learning_rate': 0.05, 'n_estimators': 200}  \n",
      "9                   {'C': 1, 'kernel': 'linear'}  \n",
      "4                               {'max_depth': 5}  \n",
      "7     {'learning_rate': 0.5, 'n_estimators': 50}  \n",
      "5          {'max_depth': 20, 'n_estimators': 50}  \n"
     ]
    }
   ],
   "source": [
    "from sklearn.metrics import r2_score, mean_squared_error\n",
    "\n",
    "results = []\n",
    "\n",
    "for name, mp in model_params.items():\n",
    "    model = mp[\"model\"]\n",
    "    param_grid = mp[\"params\"]\n",
    "\n",
    "    search = GridSearchCV(model, param_grid, cv=3, scoring='r2', n_jobs=-1)\n",
    "    search.fit(X_train_scaled, y_train)\n",
    "    best_model = search.best_estimator_\n",
    "    y_pred = best_model.predict(X_test_scaled)\n",
    "\n",
    "    r2 = r2_score(y_test, y_pred)\n",
    "    rmse = np.sqrt(mean_squared_error(y_test, y_pred))\n",
    "    results.append((name, r2, rmse, search.best_params_))\n",
    "\n",
    "# Results\n",
    "results_df = pd.DataFrame(results, columns=[\"Model\", \"R2 Score\", \"RMSE\", \"Best Params\"])\n",
    "print(\"\\nFinal Comparison:\")\n",
    "print(results_df.sort_values(by=\"R2 Score\", ascending=False))"
   ]
  },
  {
   "cell_type": "code",
   "execution_count": 37,
   "id": "89e56a9e",
   "metadata": {},
   "outputs": [],
   "source": [
    "model = CatBoostRegressor(iterations=200, learning_rate=0.1, verbose=0)\n",
    "model.fit(X_train_scaled, y_train)\n",
    "y_pred = model.predict(X_test_scaled)"
   ]
  },
  {
   "cell_type": "code",
   "execution_count": 38,
   "id": "d0b6316f",
   "metadata": {},
   "outputs": [
    {
     "data": {
      "text/plain": [
       "['models/model.pkl']"
      ]
     },
     "execution_count": 38,
     "metadata": {},
     "output_type": "execute_result"
    }
   ],
   "source": [
    "import joblib\n",
    "\n",
    "joblib.dump(fuel_le, 'models/fuel_label_encoder.pkl')\n",
    "joblib.dump(sell_le, 'models/sell_label_encoder.pkl')\n",
    "joblib.dump(trans_le, 'models/trans_label_encoder.pkl')\n",
    "joblib.dump(scaler, 'models/scaler.pkl')\n",
    "joblib.dump(model, 'models/model.pkl')"
   ]
  },
  {
   "cell_type": "code",
   "execution_count": 39,
   "id": "58eb51dc",
   "metadata": {},
   "outputs": [
    {
     "data": {
      "text/html": [
       "<div>\n",
       "<style scoped>\n",
       "    .dataframe tbody tr th:only-of-type {\n",
       "        vertical-align: middle;\n",
       "    }\n",
       "\n",
       "    .dataframe tbody tr th {\n",
       "        vertical-align: top;\n",
       "    }\n",
       "\n",
       "    .dataframe thead th {\n",
       "        text-align: right;\n",
       "    }\n",
       "</style>\n",
       "<table border=\"1\" class=\"dataframe\">\n",
       "  <thead>\n",
       "    <tr style=\"text-align: right;\">\n",
       "      <th></th>\n",
       "      <th>Year</th>\n",
       "      <th>Present_Price</th>\n",
       "      <th>Driven_kms</th>\n",
       "      <th>Fuel_Type</th>\n",
       "      <th>Selling_type</th>\n",
       "      <th>Transmission</th>\n",
       "      <th>Owner</th>\n",
       "    </tr>\n",
       "  </thead>\n",
       "  <tbody>\n",
       "    <tr>\n",
       "      <th>0</th>\n",
       "      <td>2011</td>\n",
       "      <td>6.5</td>\n",
       "      <td>45000</td>\n",
       "      <td>Petrol</td>\n",
       "      <td>Dealer</td>\n",
       "      <td>Manual</td>\n",
       "      <td>0</td>\n",
       "    </tr>\n",
       "  </tbody>\n",
       "</table>\n",
       "</div>"
      ],
      "text/plain": [
       "   Year  Present_Price  Driven_kms Fuel_Type Selling_type Transmission  Owner\n",
       "0  2011            6.5       45000    Petrol       Dealer       Manual      0"
      ]
     },
     "execution_count": 39,
     "metadata": {},
     "output_type": "execute_result"
    }
   ],
   "source": [
    "new_data = pd.DataFrame([{\n",
    "    \"Year\": 2011,\n",
    "    \"Present_Price\": 6.5,\n",
    "    \"Driven_kms\": 45000,\n",
    "    \"Fuel_Type\": \"Petrol\",\n",
    "    \"Selling_type\": \"Dealer\",\n",
    "    \"Transmission\": \"Manual\",\n",
    "    \"Owner\": 0\n",
    "}])\n",
    "new_data"
   ]
  },
  {
   "cell_type": "code",
   "execution_count": 40,
   "id": "e3ab772b",
   "metadata": {},
   "outputs": [],
   "source": [
    "new_data['Fuel_Type'] = fuel_le.transform(new_data['Fuel_Type'])\n",
    "new_data['Selling_type'] = sell_le.transform(new_data['Selling_type'])\n",
    "new_data['Transmission'] = trans_le.transform(new_data['Transmission'])\n",
    "new_data_scaled = scaler.transform(new_data)"
   ]
  },
  {
   "cell_type": "code",
   "execution_count": 41,
   "id": "1aa5d91c",
   "metadata": {},
   "outputs": [
    {
     "name": "stdout",
     "output_type": "stream",
     "text": [
      "predicted sales price: 2.9973476520831666\n"
     ]
    }
   ],
   "source": [
    "prediction = model.predict(new_data_scaled)[0]\n",
    "print(\"predicted sales price:\", prediction)"
   ]
  },
  {
   "cell_type": "code",
   "execution_count": 42,
   "id": "a37fac8c",
   "metadata": {},
   "outputs": [
    {
     "data": {
      "text/plain": [
       "Text(0.5, 1.0, 'Prediction vs Actual (with perfect-fit line)')"
      ]
     },
     "execution_count": 42,
     "metadata": {},
     "output_type": "execute_result"
    },
    {
     "data": {
      "image/png": "[encoded data removed]",
      "text/plain": [
       "<Figure size 600x500 with 1 Axes>"
      ]
     },
     "metadata": {},
     "output_type": "display_data"
    }
   ],
   "source": [
    "plt.figure(figsize=(6, 5))\n",
    "plt.scatter(y_test, y_pred)\n",
    "plt.plot([y_test.min(), y_test.max()], [y_test.min(), y_test.max()], 'r--')\n",
    "plt.xlabel(\"Actual\")\n",
    "plt.ylabel(\"Predicted\")\n",
    "plt.title(\"Prediction vs Actual (with perfect-fit line)\")"
   ]
  }
 ],
 "metadata": {
  "kernelspec": {
   "display_name": "Python 3",
   "language": "python",
   "name": "python3"
  },
  "language_info": {
   "codemirror_mode": {
    "name": "ipython",
    "version": 3
   },
   "file_extension": ".py",
   "mimetype": "text/x-python",
   "name": "python",
   "nbconvert_exporter": "python",
   "pygments_lexer": "ipython3",
   "version": "3.12.7"
  }
 },
 "nbformat": 4,
 "nbformat_minor": 5
}
