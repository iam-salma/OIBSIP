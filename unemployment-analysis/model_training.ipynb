{
 "cells": [
  {
   "cell_type": "markdown",
   "id": "29b29fd5",
   "metadata": {},
   "source": [
    "# Unemployment Analysis"
   ]
  },
  {
   "cell_type": "code",
   "execution_count": 1,
   "id": "981f42b6",
   "metadata": {},
   "outputs": [],
   "source": [
    "import pandas as pd\n",
    "import numpy as np\n",
    "import matplotlib.pyplot as plt\n",
    "import seaborn as sns\n",
    "\n",
    "import warnings\n",
    "warnings.filterwarnings(\"ignore\")"
   ]
  },
  {
   "cell_type": "code",
   "execution_count": 2,
   "id": "4411ad60",
   "metadata": {},
   "outputs": [],
   "source": [
    "sns.set(style=\"whitegrid\")\n",
    "plt.rcParams['figure.figsize'] = (6, 4)"
   ]
  },
  {
   "cell_type": "code",
   "execution_count": 3,
   "id": "36b402e5",
   "metadata": {},
   "outputs": [
    {
     "data": {
      "text/html": [
       "<div>\n",
       "<style scoped>\n",
       "    .dataframe tbody tr th:only-of-type {\n",
       "        vertical-align: middle;\n",
       "    }\n",
       "\n",
       "    .dataframe tbody tr th {\n",
       "        vertical-align: top;\n",
       "    }\n",
       "\n",
       "    .dataframe thead th {\n",
       "        text-align: right;\n",
       "    }\n",
       "</style>\n",
       "<table border=\"1\" class=\"dataframe\">\n",
       "  <thead>\n",
       "    <tr style=\"text-align: right;\">\n",
       "      <th></th>\n",
       "      <th>Region</th>\n",
       "      <th>Date</th>\n",
       "      <th>Frequency</th>\n",
       "      <th>Estimated Unemployment Rate (%)</th>\n",
       "      <th>Estimated Employed</th>\n",
       "      <th>Estimated Labour Participation Rate (%)</th>\n",
       "      <th>Area</th>\n",
       "    </tr>\n",
       "  </thead>\n",
       "  <tbody>\n",
       "    <tr>\n",
       "      <th>0</th>\n",
       "      <td>Andhra Pradesh</td>\n",
       "      <td>31-05-2019</td>\n",
       "      <td>Monthly</td>\n",
       "      <td>3.65</td>\n",
       "      <td>11999139.0</td>\n",
       "      <td>43.24</td>\n",
       "      <td>Rural</td>\n",
       "    </tr>\n",
       "    <tr>\n",
       "      <th>1</th>\n",
       "      <td>Andhra Pradesh</td>\n",
       "      <td>30-06-2019</td>\n",
       "      <td>Monthly</td>\n",
       "      <td>3.05</td>\n",
       "      <td>11755881.0</td>\n",
       "      <td>42.05</td>\n",
       "      <td>Rural</td>\n",
       "    </tr>\n",
       "    <tr>\n",
       "      <th>2</th>\n",
       "      <td>Andhra Pradesh</td>\n",
       "      <td>31-07-2019</td>\n",
       "      <td>Monthly</td>\n",
       "      <td>3.75</td>\n",
       "      <td>12086707.0</td>\n",
       "      <td>43.50</td>\n",
       "      <td>Rural</td>\n",
       "    </tr>\n",
       "    <tr>\n",
       "      <th>3</th>\n",
       "      <td>Andhra Pradesh</td>\n",
       "      <td>31-08-2019</td>\n",
       "      <td>Monthly</td>\n",
       "      <td>3.32</td>\n",
       "      <td>12285693.0</td>\n",
       "      <td>43.97</td>\n",
       "      <td>Rural</td>\n",
       "    </tr>\n",
       "    <tr>\n",
       "      <th>4</th>\n",
       "      <td>Andhra Pradesh</td>\n",
       "      <td>30-09-2019</td>\n",
       "      <td>Monthly</td>\n",
       "      <td>5.17</td>\n",
       "      <td>12256762.0</td>\n",
       "      <td>44.68</td>\n",
       "      <td>Rural</td>\n",
       "    </tr>\n",
       "  </tbody>\n",
       "</table>\n",
       "</div>"
      ],
      "text/plain": [
       "           Region         Date  Frequency   Estimated Unemployment Rate (%)  \\\n",
       "0  Andhra Pradesh   31-05-2019    Monthly                              3.65   \n",
       "1  Andhra Pradesh   30-06-2019    Monthly                              3.05   \n",
       "2  Andhra Pradesh   31-07-2019    Monthly                              3.75   \n",
       "3  Andhra Pradesh   31-08-2019    Monthly                              3.32   \n",
       "4  Andhra Pradesh   30-09-2019    Monthly                              5.17   \n",
       "\n",
       "    Estimated Employed   Estimated Labour Participation Rate (%)   Area  \n",
       "0           11999139.0                                     43.24  Rural  \n",
       "1           11755881.0                                     42.05  Rural  \n",
       "2           12086707.0                                     43.50  Rural  \n",
       "3           12285693.0                                     43.97  Rural  \n",
       "4           12256762.0                                     44.68  Rural  "
      ]
     },
     "execution_count": 3,
     "metadata": {},
     "output_type": "execute_result"
    }
   ],
   "source": [
    "df = pd.read_csv('dataset/unemployment-in-india.csv')\n",
    "df.head()"
   ]
  },
  {
   "cell_type": "code",
   "execution_count": 4,
   "id": "4630bdbb",
   "metadata": {},
   "outputs": [
    {
     "name": "stdout",
     "output_type": "stream",
     "text": [
      "Shape of dataset: (768, 7)\n",
      "\n",
      "Column types:\n",
      " Region                                       object\n",
      " Date                                        object\n",
      " Frequency                                   object\n",
      " Estimated Unemployment Rate (%)            float64\n",
      " Estimated Employed                         float64\n",
      " Estimated Labour Participation Rate (%)    float64\n",
      "Area                                         object\n",
      "dtype: object\n",
      "\n",
      "Missing values:\n",
      " Region                                      28\n",
      " Date                                       28\n",
      " Frequency                                  28\n",
      " Estimated Unemployment Rate (%)            28\n",
      " Estimated Employed                         28\n",
      " Estimated Labour Participation Rate (%)    28\n",
      "Area                                        28\n",
      "dtype: int64\n",
      "\n",
      "Duplicates: 27\n"
     ]
    }
   ],
   "source": [
    "print(\"Shape of dataset:\", df.shape)\n",
    "print(\"\\nColumn types:\\n\", df.dtypes)\n",
    "print(\"\\nMissing values:\\n\", df.isnull().sum())\n",
    "print(\"\\nDuplicates:\", df.duplicated().sum())"
   ]
  },
  {
   "cell_type": "code",
   "execution_count": 5,
   "id": "4f0e3633",
   "metadata": {},
   "outputs": [
    {
     "name": "stdout",
     "output_type": "stream",
     "text": [
      "\n",
      "After cleaning:\n",
      "Shape of dataset: (740, 7)\n",
      "\n",
      "Missing values:\n",
      " Region                                      0\n",
      " Date                                       0\n",
      " Frequency                                  0\n",
      " Estimated Unemployment Rate (%)            0\n",
      " Estimated Employed                         0\n",
      " Estimated Labour Participation Rate (%)    0\n",
      "Area                                        0\n",
      "dtype: int64\n",
      "\n",
      "Duplicates: 0\n"
     ]
    }
   ],
   "source": [
    "df.drop_duplicates(inplace=True)\n",
    "df.dropna(inplace=True)\n",
    "print(\"\\nAfter cleaning:\")\n",
    "print(\"Shape of dataset:\", df.shape)\n",
    "print(\"\\nMissing values:\\n\", df.isnull().sum())\n",
    "print(\"\\nDuplicates:\", df.duplicated().sum())"
   ]
  },
  {
   "cell_type": "code",
   "execution_count": 6,
   "id": "140ddb5c",
   "metadata": {},
   "outputs": [],
   "source": [
    "df.columns = df.columns.str.strip()"
   ]
  },
  {
   "cell_type": "code",
   "execution_count": 7,
   "id": "01c16a33",
   "metadata": {},
   "outputs": [
    {
     "data": {
      "text/plain": [
       "Frequency\n",
       "Monthly     381\n",
       " Monthly    359\n",
       "Name: count, dtype: int64"
      ]
     },
     "execution_count": 7,
     "metadata": {},
     "output_type": "execute_result"
    }
   ],
   "source": [
    "df['Frequency'].value_counts()"
   ]
  },
  {
   "cell_type": "code",
   "execution_count": 8,
   "id": "135562f5",
   "metadata": {},
   "outputs": [],
   "source": [
    "df.drop(columns=['Frequency'], inplace=True)"
   ]
  },
  {
   "cell_type": "code",
   "execution_count": 9,
   "id": "5801ac40",
   "metadata": {},
   "outputs": [
    {
     "data": {
      "text/plain": [
       "Area\n",
       "Urban    381\n",
       "Rural    359\n",
       "Name: count, dtype: int64"
      ]
     },
     "execution_count": 9,
     "metadata": {},
     "output_type": "execute_result"
    }
   ],
   "source": [
    "df['Area'].value_counts()"
   ]
  },
  {
   "cell_type": "code",
   "execution_count": 10,
   "id": "744e30e9",
   "metadata": {},
   "outputs": [],
   "source": [
    "from sklearn.preprocessing import LabelEncoder\n",
    "label_encoder = LabelEncoder()\n",
    "df['Area'] = label_encoder.fit_transform(df['Area'])\n",
    "\n",
    "from category_encoders import TargetEncoder\n",
    "t_encoder = TargetEncoder(cols=['Region'])\n",
    "df['Region'] = t_encoder.fit_transform(df['Region'], df['Estimated Unemployment Rate (%)'])"
   ]
  },
  {
   "cell_type": "code",
   "execution_count": 11,
   "id": "685d52a0",
   "metadata": {},
   "outputs": [
    {
     "data": {
      "text/html": [
       "<div>\n",
       "<style scoped>\n",
       "    .dataframe tbody tr th:only-of-type {\n",
       "        vertical-align: middle;\n",
       "    }\n",
       "\n",
       "    .dataframe tbody tr th {\n",
       "        vertical-align: top;\n",
       "    }\n",
       "\n",
       "    .dataframe thead th {\n",
       "        text-align: right;\n",
       "    }\n",
       "</style>\n",
       "<table border=\"1\" class=\"dataframe\">\n",
       "  <thead>\n",
       "    <tr style=\"text-align: right;\">\n",
       "      <th></th>\n",
       "      <th>Region</th>\n",
       "      <th>Estimated Unemployment Rate (%)</th>\n",
       "      <th>Estimated Employed</th>\n",
       "      <th>Estimated Labour Participation Rate (%)</th>\n",
       "      <th>Area</th>\n",
       "      <th>month</th>\n",
       "      <th>year</th>\n",
       "    </tr>\n",
       "  </thead>\n",
       "  <tbody>\n",
       "    <tr>\n",
       "      <th>0</th>\n",
       "      <td>8.813602</td>\n",
       "      <td>3.65</td>\n",
       "      <td>11999139.0</td>\n",
       "      <td>43.24</td>\n",
       "      <td>0</td>\n",
       "      <td>5</td>\n",
       "      <td>2019</td>\n",
       "    </tr>\n",
       "    <tr>\n",
       "      <th>1</th>\n",
       "      <td>8.813602</td>\n",
       "      <td>3.05</td>\n",
       "      <td>11755881.0</td>\n",
       "      <td>42.05</td>\n",
       "      <td>0</td>\n",
       "      <td>6</td>\n",
       "      <td>2019</td>\n",
       "    </tr>\n",
       "    <tr>\n",
       "      <th>2</th>\n",
       "      <td>8.813602</td>\n",
       "      <td>3.75</td>\n",
       "      <td>12086707.0</td>\n",
       "      <td>43.50</td>\n",
       "      <td>0</td>\n",
       "      <td>7</td>\n",
       "      <td>2019</td>\n",
       "    </tr>\n",
       "    <tr>\n",
       "      <th>3</th>\n",
       "      <td>8.813602</td>\n",
       "      <td>3.32</td>\n",
       "      <td>12285693.0</td>\n",
       "      <td>43.97</td>\n",
       "      <td>0</td>\n",
       "      <td>8</td>\n",
       "      <td>2019</td>\n",
       "    </tr>\n",
       "    <tr>\n",
       "      <th>4</th>\n",
       "      <td>8.813602</td>\n",
       "      <td>5.17</td>\n",
       "      <td>12256762.0</td>\n",
       "      <td>44.68</td>\n",
       "      <td>0</td>\n",
       "      <td>9</td>\n",
       "      <td>2019</td>\n",
       "    </tr>\n",
       "  </tbody>\n",
       "</table>\n",
       "</div>"
      ],
      "text/plain": [
       "     Region  Estimated Unemployment Rate (%)  Estimated Employed  \\\n",
       "0  8.813602                             3.65          11999139.0   \n",
       "1  8.813602                             3.05          11755881.0   \n",
       "2  8.813602                             3.75          12086707.0   \n",
       "3  8.813602                             3.32          12285693.0   \n",
       "4  8.813602                             5.17          12256762.0   \n",
       "\n",
       "   Estimated Labour Participation Rate (%)  Area  month  year  \n",
       "0                                    43.24     0      5  2019  \n",
       "1                                    42.05     0      6  2019  \n",
       "2                                    43.50     0      7  2019  \n",
       "3                                    43.97     0      8  2019  \n",
       "4                                    44.68     0      9  2019  "
      ]
     },
     "execution_count": 11,
     "metadata": {},
     "output_type": "execute_result"
    }
   ],
   "source": [
    "df['month']=df['Date'].str.split(\"-\").str[1].astype(int)\n",
    "df['year']=df['Date'].str.split(\"-\").str[2].astype(int)\n",
    "df.drop(columns=['Date'], inplace=True)\n",
    "df.head()"
   ]
  },
  {
   "cell_type": "code",
   "execution_count": 12,
   "id": "b2a767f1",
   "metadata": {},
   "outputs": [
    {
     "data": {
      "text/plain": [
       "<Axes: >"
      ]
     },
     "execution_count": 12,
     "metadata": {},
     "output_type": "execute_result"
    },
    {
     "data": {
      "image/png": "[encoded data removed]",
      "text/plain": [
       "<Figure size 600x400 with 1 Axes>"
      ]
     },
     "metadata": {},
     "output_type": "display_data"
    }
   ],
   "source": [
    "df['Estimated Unemployment Rate (%)'].hist()"
   ]
  },
  {
   "cell_type": "markdown",
   "id": "526cf6e5",
   "metadata": {},
   "source": [
    "## Descriptive Statistics"
   ]
  },
  {
   "cell_type": "code",
   "execution_count": 13,
   "id": "a640b4e4",
   "metadata": {},
   "outputs": [
    {
     "name": "stdout",
     "output_type": "stream",
     "text": [
      "\n",
      "Summary Statistics:\n",
      "            Region  Estimated Unemployment Rate (%)  Estimated Employed  \\\n",
      "count  740.000000                       740.000000        7.400000e+02   \n",
      "mean    11.796940                        11.787946        7.204460e+06   \n",
      "std      4.225814                        10.721298        8.087988e+06   \n",
      "min      7.117943                         0.000000        4.942000e+04   \n",
      "25%      8.764811                         4.657500        1.190404e+06   \n",
      "50%     10.060484                         8.350000        4.744178e+06   \n",
      "75%     14.098183                        15.887500        1.127549e+07   \n",
      "max     23.215587                        76.740000        4.577751e+07   \n",
      "\n",
      "       Estimated Labour Participation Rate (%)        Area       month  \\\n",
      "count                               740.000000  740.000000  740.000000   \n",
      "mean                                 42.630122    0.514865    6.390541   \n",
      "std                                   8.111094    0.500117    3.235070   \n",
      "min                                  13.330000    0.000000    1.000000   \n",
      "25%                                  38.062500    0.000000    4.000000   \n",
      "50%                                  41.160000    1.000000    6.000000   \n",
      "75%                                  45.505000    1.000000    9.000000   \n",
      "max                                  72.570000    1.000000   12.000000   \n",
      "\n",
      "              year  \n",
      "count   740.000000  \n",
      "mean   2019.418919  \n",
      "std       0.493716  \n",
      "min    2019.000000  \n",
      "25%    2019.000000  \n",
      "50%    2019.000000  \n",
      "75%    2020.000000  \n",
      "max    2020.000000  \n"
     ]
    }
   ],
   "source": [
    "print(\"\\nSummary Statistics:\\n\", df.describe(include='all'))"
   ]
  },
  {
   "cell_type": "markdown",
   "id": "7656ba04",
   "metadata": {},
   "source": [
    "## Model Building"
   ]
  },
  {
   "cell_type": "code",
   "execution_count": 14,
   "id": "fd53243c",
   "metadata": {},
   "outputs": [
    {
     "data": {
      "text/html": [
       "<div>\n",
       "<style scoped>\n",
       "    .dataframe tbody tr th:only-of-type {\n",
       "        vertical-align: middle;\n",
       "    }\n",
       "\n",
       "    .dataframe tbody tr th {\n",
       "        vertical-align: top;\n",
       "    }\n",
       "\n",
       "    .dataframe thead th {\n",
       "        text-align: right;\n",
       "    }\n",
       "</style>\n",
       "<table border=\"1\" class=\"dataframe\">\n",
       "  <thead>\n",
       "    <tr style=\"text-align: right;\">\n",
       "      <th></th>\n",
       "      <th>Region</th>\n",
       "      <th>Estimated Employed</th>\n",
       "      <th>Estimated Labour Participation Rate (%)</th>\n",
       "      <th>Area</th>\n",
       "      <th>month</th>\n",
       "      <th>year</th>\n",
       "    </tr>\n",
       "  </thead>\n",
       "  <tbody>\n",
       "    <tr>\n",
       "      <th>244</th>\n",
       "      <td>11.955696</td>\n",
       "      <td>6025235.0</td>\n",
       "      <td>45.79</td>\n",
       "      <td>0</td>\n",
       "      <td>6</td>\n",
       "      <td>2019</td>\n",
       "    </tr>\n",
       "    <tr>\n",
       "      <th>563</th>\n",
       "      <td>8.764811</td>\n",
       "      <td>6266446.0</td>\n",
       "      <td>37.67</td>\n",
       "      <td>1</td>\n",
       "      <td>7</td>\n",
       "      <td>2019</td>\n",
       "    </tr>\n",
       "    <tr>\n",
       "      <th>537</th>\n",
       "      <td>8.260883</td>\n",
       "      <td>8647794.0</td>\n",
       "      <td>39.00</td>\n",
       "      <td>1</td>\n",
       "      <td>9</td>\n",
       "      <td>2019</td>\n",
       "    </tr>\n",
       "    <tr>\n",
       "      <th>500</th>\n",
       "      <td>16.446937</td>\n",
       "      <td>232322.0</td>\n",
       "      <td>49.69</td>\n",
       "      <td>1</td>\n",
       "      <td>10</td>\n",
       "      <td>2019</td>\n",
       "    </tr>\n",
       "    <tr>\n",
       "      <th>135</th>\n",
       "      <td>17.857689</td>\n",
       "      <td>6958404.0</td>\n",
       "      <td>39.66</td>\n",
       "      <td>0</td>\n",
       "      <td>7</td>\n",
       "      <td>2019</td>\n",
       "    </tr>\n",
       "  </tbody>\n",
       "</table>\n",
       "</div>"
      ],
      "text/plain": [
       "        Region  Estimated Employed  Estimated Labour Participation Rate (%)  \\\n",
       "244  11.955696           6025235.0                                    45.79   \n",
       "563   8.764811           6266446.0                                    37.67   \n",
       "537   8.260883           8647794.0                                    39.00   \n",
       "500  16.446937            232322.0                                    49.69   \n",
       "135  17.857689           6958404.0                                    39.66   \n",
       "\n",
       "     Area  month  year  \n",
       "244     0      6  2019  \n",
       "563     1      7  2019  \n",
       "537     1      9  2019  \n",
       "500     1     10  2019  \n",
       "135     0      7  2019  "
      ]
     },
     "execution_count": 14,
     "metadata": {},
     "output_type": "execute_result"
    }
   ],
   "source": [
    "from sklearn.model_selection import train_test_split, GridSearchCV\n",
    "\n",
    "X = df.drop('Estimated Unemployment Rate (%)', axis=1)\n",
    "y = df['Estimated Unemployment Rate (%)']\n",
    "X_train, X_test, y_train, y_test = train_test_split(X, y, test_size=0.2, random_state=42)\n",
    "X_train.head()"
   ]
  },
  {
   "cell_type": "code",
   "execution_count": 15,
   "id": "8c080978",
   "metadata": {},
   "outputs": [],
   "source": [
    "from sklearn.preprocessing import StandardScaler\n",
    "\n",
    "scaler = StandardScaler()\n",
    "X_train_scaled = scaler.fit_transform(X_train)\n",
    "X_test_scaled = scaler.transform(X_test)"
   ]
  },
  {
   "cell_type": "code",
   "execution_count": 16,
   "id": "f40b9e25",
   "metadata": {},
   "outputs": [],
   "source": [
    "from sklearn.linear_model import LinearRegression, Ridge, Lasso\n",
    "from sklearn.ensemble import RandomForestRegressor, GradientBoostingRegressor\n",
    "from sklearn.neighbors import KNeighborsRegressor\n",
    "from sklearn.svm import SVR\n",
    "from sklearn.linear_model import ElasticNet\n",
    "from sklearn.ensemble import ExtraTreesRegressor, AdaBoostRegressor\n",
    "from sklearn.tree import DecisionTreeRegressor\n",
    "from catboost import CatBoostRegressor\n",
    "from xgboost import XGBRegressor\n",
    "\n",
    "model_params = {\n",
    "    \"Linear Regression\": {\"model\": LinearRegression(), \"params\": {}},\n",
    "    \"Ridge Regression\": {\"model\": Ridge(), \"params\": {\"alpha\": [0.1, 1.0, 10.0]}},\n",
    "    \"Lasso Regression\": {\"model\": Lasso(), \"params\": {\"alpha\": [0.001, 0.01, 0.1, 1.0]}},\n",
    "    \"ElasticNet\": {\"model\": ElasticNet(), \"params\": {\"alpha\": [0.01, 0.1, 1.0], \"l1_ratio\": [0.2, 0.5, 0.8]}},\n",
    "    \"Decision Tree\": {\"model\": DecisionTreeRegressor(), \"params\": {\"max_depth\": [5, 10, 20]}},\n",
    "    \"Random Forest\": {\"model\": RandomForestRegressor(), \"params\": {\"n_estimators\": [50, 100], \"max_depth\": [None, 10, 20]}},\n",
    "    \"Extra Trees\": {\"model\": ExtraTreesRegressor(), \"params\": {\"n_estimators\": [100, 200], \"max_depth\": [10, 20]}},\n",
    "    \"AdaBoost\": {\"model\": AdaBoostRegressor(), \"params\": {\"n_estimators\": [50, 100], \"learning_rate\": [0.05, 0.1, 0.5]}},\n",
    "    \"Gradient Boosting\": {\"model\": GradientBoostingRegressor(), \"params\": {\"n_estimators\": [100, 200], \"learning_rate\": [0.05, 0.1]}},\n",
    "    \"Support Vector Regressor\": {\"model\": SVR(), \"params\": {\"C\": [0.1, 1, 10], \"kernel\": [\"rbf\", \"linear\"]}},\n",
    "    \"KNN Regressor\": {\"model\": KNeighborsRegressor(), \"params\": {\"n_neighbors\": [3, 5, 7]}},\n",
    "    \"XGBoost\": {\"model\": XGBRegressor(), \"params\": {\"n_estimators\": [100, 200], \"learning_rate\": [0.05, 0.1]}},\n",
    "    \"CatBoost\": {\"model\": CatBoostRegressor(verbose=0), \"params\": {\"iterations\": [100, 200], \"learning_rate\": [0.05, 0.1]}},\n",
    "}"
   ]
  },
  {
   "cell_type": "code",
   "execution_count": 17,
   "id": "d2f0c5c4",
   "metadata": {},
   "outputs": [
    {
     "name": "stdout",
     "output_type": "stream",
     "text": [
      "\n",
      "Final Comparison:\n",
      "                       Model  R2 Score      RMSE  \\\n",
      "12                  CatBoost  0.750943  6.004824   \n",
      "8          Gradient Boosting  0.747866  6.041803   \n",
      "7                   AdaBoost  0.697870  6.613745   \n",
      "11                   XGBoost  0.694235  6.653416   \n",
      "5              Random Forest  0.691820  6.679639   \n",
      "6                Extra Trees  0.674446  6.865346   \n",
      "4              Decision Tree  0.582182  7.777578   \n",
      "10             KNN Regressor  0.495680  8.544841   \n",
      "0          Linear Regression  0.472651  8.737752   \n",
      "3                 ElasticNet  0.470723  8.753714   \n",
      "1           Ridge Regression  0.468825  8.769393   \n",
      "2           Lasso Regression  0.464688  8.803483   \n",
      "9   Support Vector Regressor  0.411683  9.229038   \n",
      "\n",
      "                                     Best Params  \n",
      "12     {'iterations': 200, 'learning_rate': 0.1}  \n",
      "8    {'learning_rate': 0.1, 'n_estimators': 100}  \n",
      "7    {'learning_rate': 0.1, 'n_estimators': 100}  \n",
      "11  {'learning_rate': 0.05, 'n_estimators': 100}  \n",
      "5       {'max_depth': None, 'n_estimators': 100}  \n",
      "6         {'max_depth': 20, 'n_estimators': 100}  \n",
      "4                               {'max_depth': 5}  \n",
      "10                            {'n_neighbors': 7}  \n",
      "0                                             {}  \n",
      "3               {'alpha': 0.01, 'l1_ratio': 0.2}  \n",
      "1                                {'alpha': 10.0}  \n",
      "2                                 {'alpha': 0.1}  \n",
      "9                     {'C': 10, 'kernel': 'rbf'}  \n"
     ]
    }
   ],
   "source": [
    "from sklearn.metrics import r2_score, mean_squared_error\n",
    "\n",
    "results = []\n",
    "\n",
    "for name, mp in model_params.items():\n",
    "    model = mp[\"model\"]\n",
    "    param_grid = mp[\"params\"]\n",
    "\n",
    "    search = GridSearchCV(model, param_grid, cv=3, scoring='r2', n_jobs=-1)\n",
    "    search.fit(X_train_scaled, y_train)\n",
    "    best_model = search.best_estimator_\n",
    "    y_pred = best_model.predict(X_test_scaled)\n",
    "\n",
    "    r2 = r2_score(y_test, y_pred)\n",
    "    rmse = np.sqrt(mean_squared_error(y_test, y_pred))\n",
    "    results.append((name, r2, rmse, search.best_params_))\n",
    "\n",
    "# Results\n",
    "results_df = pd.DataFrame(results, columns=[\"Model\", \"R2 Score\", \"RMSE\", \"Best Params\"])\n",
    "print(\"\\nFinal Comparison:\")\n",
    "print(results_df.sort_values(by=\"R2 Score\", ascending=False))"
   ]
  },
  {
   "cell_type": "code",
   "execution_count": 18,
   "id": "4d69f6d6",
   "metadata": {},
   "outputs": [],
   "source": [
    "model = GradientBoostingRegressor(n_estimators=100, learning_rate=0.1)\n",
    "model.fit(X_train_scaled, y_train)\n",
    "y_pred = model.predict(X_test_scaled)"
   ]
  },
  {
   "cell_type": "code",
   "execution_count": 19,
   "id": "07f3195c",
   "metadata": {},
   "outputs": [
    {
     "data": {
      "text/plain": [
       "['models/model.pkl']"
      ]
     },
     "execution_count": 19,
     "metadata": {},
     "output_type": "execute_result"
    }
   ],
   "source": [
    "import joblib\n",
    "\n",
    "joblib.dump(t_encoder, 'models/target_encoder.pkl')\n",
    "joblib.dump(label_encoder, 'models/label_encoder.pkl')\n",
    "joblib.dump(scaler, 'models/scaler.pkl')\n",
    "joblib.dump(model, 'models/model.pkl')"
   ]
  },
  {
   "cell_type": "code",
   "execution_count": 20,
   "id": "66612e35",
   "metadata": {},
   "outputs": [
    {
     "data": {
      "text/html": [
       "<div>\n",
       "<style scoped>\n",
       "    .dataframe tbody tr th:only-of-type {\n",
       "        vertical-align: middle;\n",
       "    }\n",
       "\n",
       "    .dataframe tbody tr th {\n",
       "        vertical-align: top;\n",
       "    }\n",
       "\n",
       "    .dataframe thead th {\n",
       "        text-align: right;\n",
       "    }\n",
       "</style>\n",
       "<table border=\"1\" class=\"dataframe\">\n",
       "  <thead>\n",
       "    <tr style=\"text-align: right;\">\n",
       "      <th></th>\n",
       "      <th>Region</th>\n",
       "      <th>Estimated Employed</th>\n",
       "      <th>Estimated Labour Participation Rate (%)</th>\n",
       "      <th>Area</th>\n",
       "      <th>month</th>\n",
       "      <th>year</th>\n",
       "    </tr>\n",
       "  </thead>\n",
       "  <tbody>\n",
       "    <tr>\n",
       "      <th>0</th>\n",
       "      <td>Southern</td>\n",
       "      <td>35.0</td>\n",
       "      <td>40.5</td>\n",
       "      <td>Urban</td>\n",
       "      <td>5</td>\n",
       "      <td>2020</td>\n",
       "    </tr>\n",
       "  </tbody>\n",
       "</table>\n",
       "</div>"
      ],
      "text/plain": [
       "     Region  Estimated Employed  Estimated Labour Participation Rate (%)  \\\n",
       "0  Southern                35.0                                     40.5   \n",
       "\n",
       "    Area  month  year  \n",
       "0  Urban      5  2020  "
      ]
     },
     "execution_count": 20,
     "metadata": {},
     "output_type": "execute_result"
    }
   ],
   "source": [
    "new_data = pd.DataFrame([{\n",
    "    \"Region\": \"Southern\",\n",
    "    \"Estimated Employed\": 35.0,\n",
    "    \"Estimated Labour Participation Rate (%)\": 40.5,\n",
    "    \"Area\": \"Urban\",\n",
    "    \"month\": 5,\n",
    "    \"year\": 2020\n",
    "}])\n",
    "new_data"
   ]
  },
  {
   "cell_type": "code",
   "execution_count": 21,
   "id": "245be14c",
   "metadata": {},
   "outputs": [
    {
     "data": {
      "text/plain": [
       "array([[-0.00601192, -0.90884374, -0.26359117,  0.95054562, -0.42314436,\n",
       "         1.16557528]])"
      ]
     },
     "execution_count": 21,
     "metadata": {},
     "output_type": "execute_result"
    }
   ],
   "source": [
    "new_data['Area'] = label_encoder.transform(new_data['Area'])\n",
    "new_data['Region'] = t_encoder.transform(new_data['Region'])\n",
    "new_data_scaled = scaler.transform(new_data)\n",
    "new_data_scaled"
   ]
  },
  {
   "cell_type": "code",
   "execution_count": 22,
   "id": "73f74ca2",
   "metadata": {},
   "outputs": [
    {
     "name": "stdout",
     "output_type": "stream",
     "text": [
      "Predicted Unemployment Rate: 55.326811927816244\n"
     ]
    }
   ],
   "source": [
    "pred = model.predict(new_data_scaled)[0]\n",
    "print(\"Predicted Unemployment Rate:\", pred)"
   ]
  },
  {
   "cell_type": "code",
   "execution_count": 23,
   "id": "d3ad997b",
   "metadata": {},
   "outputs": [
    {
     "data": {
      "text/plain": [
       "Text(0.5, 1.0, 'Prediction vs Actual (with perfect-fit line)')"
      ]
     },
     "execution_count": 23,
     "metadata": {},
     "output_type": "execute_result"
    },
    {
     "data": {
      "image/png": "[encoded data removed]",
      "text/plain": [
       "<Figure size 600x500 with 1 Axes>"
      ]
     },
     "metadata": {},
     "output_type": "display_data"
    }
   ],
   "source": [
    "plt.figure(figsize=(6, 5))\n",
    "plt.scatter(y_test, y_pred)\n",
    "plt.plot([y_test.min(), y_test.max()], [y_test.min(), y_test.max()], 'r--')\n",
    "plt.xlabel(\"Actual\")\n",
    "plt.ylabel(\"Predicted\")\n",
    "plt.title(\"Prediction vs Actual (with perfect-fit line)\")"
   ]
  }
 ],
 "metadata": {
  "kernelspec": {
   "display_name": "Python 3",
   "language": "python",
   "name": "python3"
  },
  "language_info": {
   "codemirror_mode": {
    "name": "ipython",
    "version": 3
   },
   "file_extension": ".py",
   "mimetype": "text/x-python",
   "name": "python",
   "nbconvert_exporter": "python",
   "pygments_lexer": "ipython3",
   "version": "3.12.7"
  }
 },
 "nbformat": 4,
 "nbformat_minor": 5
}
